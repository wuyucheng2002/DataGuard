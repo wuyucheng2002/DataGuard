{
 "cells": [
  {
   "cell_type": "code",
   "execution_count": 4,
   "metadata": {
    "collapsed": false
   },
   "outputs": [],
   "source": [
    "import pandas as pd\n",
    "import numpy as np"
   ]
  },
  {
   "attachments": {},
   "cell_type": "markdown",
   "metadata": {},
   "source": [
    "### 数据预处理，形成训练集"
   ]
  },
  {
   "cell_type": "code",
   "execution_count": 91,
   "metadata": {
    "collapsed": false
   },
   "outputs": [],
   "source": [
    "line_list = []\n",
    "with open('./Adult/adult.data') as lines:\n",
    "    for line in lines:\n",
    "        l = line.split(',')\n",
    "        if '?' in l:\n",
    "            print('yes')\n",
    "        line_list.append(l)"
   ]
  },
  {
   "cell_type": "code",
   "execution_count": 92,
   "metadata": {
    "collapsed": false
   },
   "outputs": [],
   "source": [
    "data = pd.DataFrame(line_list,\n",
    "                    columns=['age', 'workclass', 'fnlwgt', 'education', 'education-num',\n",
    "                             'marital-status', 'occupation', 'relationship',\n",
    "                             'race', 'sex', 'capital-gain', 'capital-loss','hours-per-week',\n",
    "                             'native-country', 'label'])"
   ]
  },
  {
   "cell_type": "code",
   "execution_count": 93,
   "metadata": {
    "collapsed": false
   },
   "outputs": [
    {
     "name": "stdout",
     "output_type": "stream",
     "text": [
      "<class 'pandas.core.frame.DataFrame'>\n",
      "RangeIndex: 32562 entries, 0 to 32561\n",
      "Data columns (total 15 columns):\n",
      " #   Column          Non-Null Count  Dtype \n",
      "---  ------          --------------  ----- \n",
      " 0   age             32562 non-null  object\n",
      " 1   workclass       32561 non-null  object\n",
      " 2   fnlwgt          32561 non-null  object\n",
      " 3   education       32561 non-null  object\n",
      " 4   education-num   32561 non-null  object\n",
      " 5   marital-status  32561 non-null  object\n",
      " 6   occupation      32561 non-null  object\n",
      " 7   relationship    32561 non-null  object\n",
      " 8   race            32561 non-null  object\n",
      " 9   sex             32561 non-null  object\n",
      " 10  capital-gain    32561 non-null  object\n",
      " 11  capital-loss    32561 non-null  object\n",
      " 12  hours-per-week  32561 non-null  object\n",
      " 13  native-country  32561 non-null  object\n",
      " 14  label           32561 non-null  object\n",
      "dtypes: object(15)\n",
      "memory usage: 3.7+ MB\n"
     ]
    }
   ],
   "source": [
    "data.info()"
   ]
  },
  {
   "cell_type": "code",
   "execution_count": 94,
   "metadata": {},
   "outputs": [],
   "source": [
    "data = data.iloc[:-1, :]"
   ]
  },
  {
   "cell_type": "code",
   "execution_count": 95,
   "metadata": {
    "collapsed": false
   },
   "outputs": [],
   "source": [
    "for col in ['age', 'fnlwgt', 'education-num', 'capital-gain', 'capital-loss', 'hours-per-week']:\n",
    "    data[col] = data[col].astype(int)"
   ]
  },
  {
   "cell_type": "code",
   "execution_count": 97,
   "metadata": {
    "collapsed": false
   },
   "outputs": [],
   "source": [
    "for col in ['workclass', 'education', 'marital-status', 'occupation', 'relationship', 'race', 'native-country', 'label']:\n",
    "    data[col] = data[col].astype(str)\n",
    "    data[col] = data[col].apply(lambda x: x.strip(' '))\n",
    "    data[col] = data[col].apply(lambda x : None if x == '?' else x)\n",
    "    "
   ]
  },
  {
   "cell_type": "code",
   "execution_count": 98,
   "metadata": {},
   "outputs": [],
   "source": [
    "data['label'] = data['label'].apply(lambda l : l.strip())"
   ]
  },
  {
   "cell_type": "code",
   "execution_count": 99,
   "metadata": {},
   "outputs": [
    {
     "name": "stdout",
     "output_type": "stream",
     "text": [
      "<class 'pandas.core.frame.DataFrame'>\n",
      "RangeIndex: 32561 entries, 0 to 32560\n",
      "Data columns (total 15 columns):\n",
      " #   Column          Non-Null Count  Dtype \n",
      "---  ------          --------------  ----- \n",
      " 0   age             32561 non-null  int32 \n",
      " 1   workclass       32561 non-null  object\n",
      " 2   fnlwgt          32561 non-null  int32 \n",
      " 3   education       32561 non-null  object\n",
      " 4   education-num   32561 non-null  int32 \n",
      " 5   marital-status  32561 non-null  object\n",
      " 6   occupation      30718 non-null  object\n",
      " 7   relationship    32561 non-null  object\n",
      " 8   race            32561 non-null  object\n",
      " 9   sex             32561 non-null  object\n",
      " 10  capital-gain    32561 non-null  int32 \n",
      " 11  capital-loss    32561 non-null  int32 \n",
      " 12  hours-per-week  32561 non-null  int32 \n",
      " 13  native-country  31978 non-null  object\n",
      " 14  label           32561 non-null  object\n",
      "dtypes: int32(6), object(9)\n",
      "memory usage: 3.0+ MB\n"
     ]
    }
   ],
   "source": [
    "data.info()"
   ]
  },
  {
   "cell_type": "code",
   "execution_count": 100,
   "metadata": {},
   "outputs": [],
   "source": [
    "data.dropna(axis='index', how='any', inplace=True)"
   ]
  },
  {
   "cell_type": "code",
   "execution_count": 101,
   "metadata": {},
   "outputs": [],
   "source": [
    "data['sex'] = data['sex'].apply(lambda x : 0 if x == 'Male' else 1)"
   ]
  },
  {
   "cell_type": "code",
   "execution_count": 102,
   "metadata": {},
   "outputs": [
    {
     "name": "stdout",
     "output_type": "stream",
     "text": [
      "<class 'pandas.core.frame.DataFrame'>\n",
      "Int64Index: 30162 entries, 0 to 32560\n",
      "Data columns (total 15 columns):\n",
      " #   Column          Non-Null Count  Dtype \n",
      "---  ------          --------------  ----- \n",
      " 0   age             30162 non-null  int32 \n",
      " 1   workclass       30162 non-null  object\n",
      " 2   fnlwgt          30162 non-null  int32 \n",
      " 3   education       30162 non-null  object\n",
      " 4   education-num   30162 non-null  int32 \n",
      " 5   marital-status  30162 non-null  object\n",
      " 6   occupation      30162 non-null  object\n",
      " 7   relationship    30162 non-null  object\n",
      " 8   race            30162 non-null  object\n",
      " 9   sex             30162 non-null  int64 \n",
      " 10  capital-gain    30162 non-null  int32 \n",
      " 11  capital-loss    30162 non-null  int32 \n",
      " 12  hours-per-week  30162 non-null  int32 \n",
      " 13  native-country  30162 non-null  object\n",
      " 14  label           30162 non-null  object\n",
      "dtypes: int32(6), int64(1), object(8)\n",
      "memory usage: 3.0+ MB\n"
     ]
    }
   ],
   "source": [
    "data.info()"
   ]
  },
  {
   "cell_type": "code",
   "execution_count": 103,
   "metadata": {},
   "outputs": [
    {
     "data": {
      "text/html": [
       "<div>\n",
       "<style scoped>\n",
       "    .dataframe tbody tr th:only-of-type {\n",
       "        vertical-align: middle;\n",
       "    }\n",
       "\n",
       "    .dataframe tbody tr th {\n",
       "        vertical-align: top;\n",
       "    }\n",
       "\n",
       "    .dataframe thead th {\n",
       "        text-align: right;\n",
       "    }\n",
       "</style>\n",
       "<table border=\"1\" class=\"dataframe\">\n",
       "  <thead>\n",
       "    <tr style=\"text-align: right;\">\n",
       "      <th></th>\n",
       "      <th>age</th>\n",
       "      <th>fnlwgt</th>\n",
       "      <th>education-num</th>\n",
       "      <th>sex</th>\n",
       "      <th>capital-gain</th>\n",
       "      <th>capital-loss</th>\n",
       "      <th>hours-per-week</th>\n",
       "    </tr>\n",
       "  </thead>\n",
       "  <tbody>\n",
       "    <tr>\n",
       "      <th>count</th>\n",
       "      <td>30162.000000</td>\n",
       "      <td>3.016200e+04</td>\n",
       "      <td>30162.000000</td>\n",
       "      <td>30162.0</td>\n",
       "      <td>30162.000000</td>\n",
       "      <td>30162.000000</td>\n",
       "      <td>30162.000000</td>\n",
       "    </tr>\n",
       "    <tr>\n",
       "      <th>mean</th>\n",
       "      <td>38.437902</td>\n",
       "      <td>1.897938e+05</td>\n",
       "      <td>10.121312</td>\n",
       "      <td>1.0</td>\n",
       "      <td>1092.007858</td>\n",
       "      <td>88.372489</td>\n",
       "      <td>40.931238</td>\n",
       "    </tr>\n",
       "    <tr>\n",
       "      <th>std</th>\n",
       "      <td>13.134665</td>\n",
       "      <td>1.056530e+05</td>\n",
       "      <td>2.549995</td>\n",
       "      <td>0.0</td>\n",
       "      <td>7406.346497</td>\n",
       "      <td>404.298370</td>\n",
       "      <td>11.979984</td>\n",
       "    </tr>\n",
       "    <tr>\n",
       "      <th>min</th>\n",
       "      <td>17.000000</td>\n",
       "      <td>1.376900e+04</td>\n",
       "      <td>1.000000</td>\n",
       "      <td>1.0</td>\n",
       "      <td>0.000000</td>\n",
       "      <td>0.000000</td>\n",
       "      <td>1.000000</td>\n",
       "    </tr>\n",
       "    <tr>\n",
       "      <th>25%</th>\n",
       "      <td>28.000000</td>\n",
       "      <td>1.176272e+05</td>\n",
       "      <td>9.000000</td>\n",
       "      <td>1.0</td>\n",
       "      <td>0.000000</td>\n",
       "      <td>0.000000</td>\n",
       "      <td>40.000000</td>\n",
       "    </tr>\n",
       "    <tr>\n",
       "      <th>50%</th>\n",
       "      <td>37.000000</td>\n",
       "      <td>1.784250e+05</td>\n",
       "      <td>10.000000</td>\n",
       "      <td>1.0</td>\n",
       "      <td>0.000000</td>\n",
       "      <td>0.000000</td>\n",
       "      <td>40.000000</td>\n",
       "    </tr>\n",
       "    <tr>\n",
       "      <th>75%</th>\n",
       "      <td>47.000000</td>\n",
       "      <td>2.376285e+05</td>\n",
       "      <td>13.000000</td>\n",
       "      <td>1.0</td>\n",
       "      <td>0.000000</td>\n",
       "      <td>0.000000</td>\n",
       "      <td>45.000000</td>\n",
       "    </tr>\n",
       "    <tr>\n",
       "      <th>max</th>\n",
       "      <td>90.000000</td>\n",
       "      <td>1.484705e+06</td>\n",
       "      <td>16.000000</td>\n",
       "      <td>1.0</td>\n",
       "      <td>99999.000000</td>\n",
       "      <td>4356.000000</td>\n",
       "      <td>99.000000</td>\n",
       "    </tr>\n",
       "  </tbody>\n",
       "</table>\n",
       "</div>"
      ],
      "text/plain": [
       "                age        fnlwgt  education-num      sex  capital-gain  \\\n",
       "count  30162.000000  3.016200e+04   30162.000000  30162.0  30162.000000   \n",
       "mean      38.437902  1.897938e+05      10.121312      1.0   1092.007858   \n",
       "std       13.134665  1.056530e+05       2.549995      0.0   7406.346497   \n",
       "min       17.000000  1.376900e+04       1.000000      1.0      0.000000   \n",
       "25%       28.000000  1.176272e+05       9.000000      1.0      0.000000   \n",
       "50%       37.000000  1.784250e+05      10.000000      1.0      0.000000   \n",
       "75%       47.000000  2.376285e+05      13.000000      1.0      0.000000   \n",
       "max       90.000000  1.484705e+06      16.000000      1.0  99999.000000   \n",
       "\n",
       "       capital-loss  hours-per-week  \n",
       "count  30162.000000    30162.000000  \n",
       "mean      88.372489       40.931238  \n",
       "std      404.298370       11.979984  \n",
       "min        0.000000        1.000000  \n",
       "25%        0.000000       40.000000  \n",
       "50%        0.000000       40.000000  \n",
       "75%        0.000000       45.000000  \n",
       "max     4356.000000       99.000000  "
      ]
     },
     "execution_count": 103,
     "metadata": {},
     "output_type": "execute_result"
    }
   ],
   "source": [
    "data.describe()"
   ]
  },
  {
   "cell_type": "code",
   "execution_count": 104,
   "metadata": {},
   "outputs": [
    {
     "data": {
      "text/html": [
       "<div>\n",
       "<style scoped>\n",
       "    .dataframe tbody tr th:only-of-type {\n",
       "        vertical-align: middle;\n",
       "    }\n",
       "\n",
       "    .dataframe tbody tr th {\n",
       "        vertical-align: top;\n",
       "    }\n",
       "\n",
       "    .dataframe thead th {\n",
       "        text-align: right;\n",
       "    }\n",
       "</style>\n",
       "<table border=\"1\" class=\"dataframe\">\n",
       "  <thead>\n",
       "    <tr style=\"text-align: right;\">\n",
       "      <th></th>\n",
       "      <th>age</th>\n",
       "      <th>workclass</th>\n",
       "      <th>fnlwgt</th>\n",
       "      <th>education</th>\n",
       "      <th>education-num</th>\n",
       "      <th>marital-status</th>\n",
       "      <th>occupation</th>\n",
       "      <th>relationship</th>\n",
       "      <th>race</th>\n",
       "      <th>sex</th>\n",
       "      <th>capital-gain</th>\n",
       "      <th>capital-loss</th>\n",
       "      <th>hours-per-week</th>\n",
       "      <th>native-country</th>\n",
       "      <th>label</th>\n",
       "    </tr>\n",
       "  </thead>\n",
       "  <tbody>\n",
       "    <tr>\n",
       "      <th>0</th>\n",
       "      <td>39</td>\n",
       "      <td>State-gov</td>\n",
       "      <td>77516</td>\n",
       "      <td>Bachelors</td>\n",
       "      <td>13</td>\n",
       "      <td>Never-married</td>\n",
       "      <td>Adm-clerical</td>\n",
       "      <td>Not-in-family</td>\n",
       "      <td>White</td>\n",
       "      <td>1</td>\n",
       "      <td>2174</td>\n",
       "      <td>0</td>\n",
       "      <td>40</td>\n",
       "      <td>United-States</td>\n",
       "      <td>&lt;=50K</td>\n",
       "    </tr>\n",
       "    <tr>\n",
       "      <th>1</th>\n",
       "      <td>50</td>\n",
       "      <td>Self-emp-not-inc</td>\n",
       "      <td>83311</td>\n",
       "      <td>Bachelors</td>\n",
       "      <td>13</td>\n",
       "      <td>Married-civ-spouse</td>\n",
       "      <td>Exec-managerial</td>\n",
       "      <td>Husband</td>\n",
       "      <td>White</td>\n",
       "      <td>1</td>\n",
       "      <td>0</td>\n",
       "      <td>0</td>\n",
       "      <td>13</td>\n",
       "      <td>United-States</td>\n",
       "      <td>&lt;=50K</td>\n",
       "    </tr>\n",
       "    <tr>\n",
       "      <th>2</th>\n",
       "      <td>38</td>\n",
       "      <td>Private</td>\n",
       "      <td>215646</td>\n",
       "      <td>HS-grad</td>\n",
       "      <td>9</td>\n",
       "      <td>Divorced</td>\n",
       "      <td>Handlers-cleaners</td>\n",
       "      <td>Not-in-family</td>\n",
       "      <td>White</td>\n",
       "      <td>1</td>\n",
       "      <td>0</td>\n",
       "      <td>0</td>\n",
       "      <td>40</td>\n",
       "      <td>United-States</td>\n",
       "      <td>&lt;=50K</td>\n",
       "    </tr>\n",
       "    <tr>\n",
       "      <th>3</th>\n",
       "      <td>53</td>\n",
       "      <td>Private</td>\n",
       "      <td>234721</td>\n",
       "      <td>11th</td>\n",
       "      <td>7</td>\n",
       "      <td>Married-civ-spouse</td>\n",
       "      <td>Handlers-cleaners</td>\n",
       "      <td>Husband</td>\n",
       "      <td>Black</td>\n",
       "      <td>1</td>\n",
       "      <td>0</td>\n",
       "      <td>0</td>\n",
       "      <td>40</td>\n",
       "      <td>United-States</td>\n",
       "      <td>&lt;=50K</td>\n",
       "    </tr>\n",
       "    <tr>\n",
       "      <th>4</th>\n",
       "      <td>28</td>\n",
       "      <td>Private</td>\n",
       "      <td>338409</td>\n",
       "      <td>Bachelors</td>\n",
       "      <td>13</td>\n",
       "      <td>Married-civ-spouse</td>\n",
       "      <td>Prof-specialty</td>\n",
       "      <td>Wife</td>\n",
       "      <td>Black</td>\n",
       "      <td>1</td>\n",
       "      <td>0</td>\n",
       "      <td>0</td>\n",
       "      <td>40</td>\n",
       "      <td>Cuba</td>\n",
       "      <td>&lt;=50K</td>\n",
       "    </tr>\n",
       "    <tr>\n",
       "      <th>...</th>\n",
       "      <td>...</td>\n",
       "      <td>...</td>\n",
       "      <td>...</td>\n",
       "      <td>...</td>\n",
       "      <td>...</td>\n",
       "      <td>...</td>\n",
       "      <td>...</td>\n",
       "      <td>...</td>\n",
       "      <td>...</td>\n",
       "      <td>...</td>\n",
       "      <td>...</td>\n",
       "      <td>...</td>\n",
       "      <td>...</td>\n",
       "      <td>...</td>\n",
       "      <td>...</td>\n",
       "    </tr>\n",
       "    <tr>\n",
       "      <th>32556</th>\n",
       "      <td>27</td>\n",
       "      <td>Private</td>\n",
       "      <td>257302</td>\n",
       "      <td>Assoc-acdm</td>\n",
       "      <td>12</td>\n",
       "      <td>Married-civ-spouse</td>\n",
       "      <td>Tech-support</td>\n",
       "      <td>Wife</td>\n",
       "      <td>White</td>\n",
       "      <td>1</td>\n",
       "      <td>0</td>\n",
       "      <td>0</td>\n",
       "      <td>38</td>\n",
       "      <td>United-States</td>\n",
       "      <td>&lt;=50K</td>\n",
       "    </tr>\n",
       "    <tr>\n",
       "      <th>32557</th>\n",
       "      <td>40</td>\n",
       "      <td>Private</td>\n",
       "      <td>154374</td>\n",
       "      <td>HS-grad</td>\n",
       "      <td>9</td>\n",
       "      <td>Married-civ-spouse</td>\n",
       "      <td>Machine-op-inspct</td>\n",
       "      <td>Husband</td>\n",
       "      <td>White</td>\n",
       "      <td>1</td>\n",
       "      <td>0</td>\n",
       "      <td>0</td>\n",
       "      <td>40</td>\n",
       "      <td>United-States</td>\n",
       "      <td>&gt;50K</td>\n",
       "    </tr>\n",
       "    <tr>\n",
       "      <th>32558</th>\n",
       "      <td>58</td>\n",
       "      <td>Private</td>\n",
       "      <td>151910</td>\n",
       "      <td>HS-grad</td>\n",
       "      <td>9</td>\n",
       "      <td>Widowed</td>\n",
       "      <td>Adm-clerical</td>\n",
       "      <td>Unmarried</td>\n",
       "      <td>White</td>\n",
       "      <td>1</td>\n",
       "      <td>0</td>\n",
       "      <td>0</td>\n",
       "      <td>40</td>\n",
       "      <td>United-States</td>\n",
       "      <td>&lt;=50K</td>\n",
       "    </tr>\n",
       "    <tr>\n",
       "      <th>32559</th>\n",
       "      <td>22</td>\n",
       "      <td>Private</td>\n",
       "      <td>201490</td>\n",
       "      <td>HS-grad</td>\n",
       "      <td>9</td>\n",
       "      <td>Never-married</td>\n",
       "      <td>Adm-clerical</td>\n",
       "      <td>Own-child</td>\n",
       "      <td>White</td>\n",
       "      <td>1</td>\n",
       "      <td>0</td>\n",
       "      <td>0</td>\n",
       "      <td>20</td>\n",
       "      <td>United-States</td>\n",
       "      <td>&lt;=50K</td>\n",
       "    </tr>\n",
       "    <tr>\n",
       "      <th>32560</th>\n",
       "      <td>52</td>\n",
       "      <td>Self-emp-inc</td>\n",
       "      <td>287927</td>\n",
       "      <td>HS-grad</td>\n",
       "      <td>9</td>\n",
       "      <td>Married-civ-spouse</td>\n",
       "      <td>Exec-managerial</td>\n",
       "      <td>Wife</td>\n",
       "      <td>White</td>\n",
       "      <td>1</td>\n",
       "      <td>15024</td>\n",
       "      <td>0</td>\n",
       "      <td>40</td>\n",
       "      <td>United-States</td>\n",
       "      <td>&gt;50K</td>\n",
       "    </tr>\n",
       "  </tbody>\n",
       "</table>\n",
       "<p>30162 rows × 15 columns</p>\n",
       "</div>"
      ],
      "text/plain": [
       "       age         workclass  fnlwgt   education  education-num  \\\n",
       "0       39         State-gov   77516   Bachelors             13   \n",
       "1       50  Self-emp-not-inc   83311   Bachelors             13   \n",
       "2       38           Private  215646     HS-grad              9   \n",
       "3       53           Private  234721        11th              7   \n",
       "4       28           Private  338409   Bachelors             13   \n",
       "...    ...               ...     ...         ...            ...   \n",
       "32556   27           Private  257302  Assoc-acdm             12   \n",
       "32557   40           Private  154374     HS-grad              9   \n",
       "32558   58           Private  151910     HS-grad              9   \n",
       "32559   22           Private  201490     HS-grad              9   \n",
       "32560   52      Self-emp-inc  287927     HS-grad              9   \n",
       "\n",
       "           marital-status         occupation   relationship   race  sex  \\\n",
       "0           Never-married       Adm-clerical  Not-in-family  White    1   \n",
       "1      Married-civ-spouse    Exec-managerial        Husband  White    1   \n",
       "2                Divorced  Handlers-cleaners  Not-in-family  White    1   \n",
       "3      Married-civ-spouse  Handlers-cleaners        Husband  Black    1   \n",
       "4      Married-civ-spouse     Prof-specialty           Wife  Black    1   \n",
       "...                   ...                ...            ...    ...  ...   \n",
       "32556  Married-civ-spouse       Tech-support           Wife  White    1   \n",
       "32557  Married-civ-spouse  Machine-op-inspct        Husband  White    1   \n",
       "32558             Widowed       Adm-clerical      Unmarried  White    1   \n",
       "32559       Never-married       Adm-clerical      Own-child  White    1   \n",
       "32560  Married-civ-spouse    Exec-managerial           Wife  White    1   \n",
       "\n",
       "       capital-gain  capital-loss  hours-per-week native-country  label  \n",
       "0              2174             0              40  United-States  <=50K  \n",
       "1                 0             0              13  United-States  <=50K  \n",
       "2                 0             0              40  United-States  <=50K  \n",
       "3                 0             0              40  United-States  <=50K  \n",
       "4                 0             0              40           Cuba  <=50K  \n",
       "...             ...           ...             ...            ...    ...  \n",
       "32556             0             0              38  United-States  <=50K  \n",
       "32557             0             0              40  United-States   >50K  \n",
       "32558             0             0              40  United-States  <=50K  \n",
       "32559             0             0              20  United-States  <=50K  \n",
       "32560         15024             0              40  United-States   >50K  \n",
       "\n",
       "[30162 rows x 15 columns]"
      ]
     },
     "execution_count": 104,
     "metadata": {},
     "output_type": "execute_result"
    }
   ],
   "source": [
    "data"
   ]
  },
  {
   "cell_type": "code",
   "execution_count": 5,
   "metadata": {},
   "outputs": [],
   "source": [
    "import tensorflow as tf"
   ]
  },
  {
   "cell_type": "code",
   "execution_count": 6,
   "metadata": {},
   "outputs": [],
   "source": [
    "from sklearn.preprocessing import OneHotEncoder, StandardScaler"
   ]
  },
  {
   "cell_type": "code",
   "execution_count": 131,
   "metadata": {},
   "outputs": [],
   "source": [
    "onehot_dic = dict()\n",
    "for col in ['workclass', 'education', 'marital-status', 'occupation', 'relationship', 'race', 'native-country', 'label']:\n",
    "    onehot_encoder = OneHotEncoder()\n",
    "    onehot = onehot_encoder.fit_transform(data[[col]])\n",
    "    onehot_dic[col] = onehot"
   ]
  },
  {
   "cell_type": "code",
   "execution_count": 275,
   "metadata": {},
   "outputs": [
    {
     "data": {
      "text/plain": [
       "{'workclass': <30162x7 sparse matrix of type '<class 'numpy.float64'>'\n",
       " \twith 30162 stored elements in Compressed Sparse Row format>,\n",
       " 'education': <30162x16 sparse matrix of type '<class 'numpy.float64'>'\n",
       " \twith 30162 stored elements in Compressed Sparse Row format>,\n",
       " 'marital-status': <30162x7 sparse matrix of type '<class 'numpy.float64'>'\n",
       " \twith 30162 stored elements in Compressed Sparse Row format>,\n",
       " 'occupation': <30162x14 sparse matrix of type '<class 'numpy.float64'>'\n",
       " \twith 30162 stored elements in Compressed Sparse Row format>,\n",
       " 'relationship': <30162x6 sparse matrix of type '<class 'numpy.float64'>'\n",
       " \twith 30162 stored elements in Compressed Sparse Row format>,\n",
       " 'race': <30162x5 sparse matrix of type '<class 'numpy.float64'>'\n",
       " \twith 30162 stored elements in Compressed Sparse Row format>,\n",
       " 'native-country': <30162x41 sparse matrix of type '<class 'numpy.float64'>'\n",
       " \twith 30162 stored elements in Compressed Sparse Row format>,\n",
       " 'label': <30162x2 sparse matrix of type '<class 'numpy.float64'>'\n",
       " \twith 30162 stored elements in Compressed Sparse Row format>}"
      ]
     },
     "execution_count": 275,
     "metadata": {},
     "output_type": "execute_result"
    }
   ],
   "source": [
    "onehot_dic"
   ]
  },
  {
   "cell_type": "code",
   "execution_count": 136,
   "metadata": {},
   "outputs": [],
   "source": [
    "for col in ['age', 'fnlwgt', 'education-num', 'capital-gain', 'capital-loss', 'hours-per-week']:\n",
    "    standard_scaler = StandardScaler() \n",
    "    data[col] = standard_scaler.fit_transform(data[[col]])"
   ]
  },
  {
   "cell_type": "code",
   "execution_count": 137,
   "metadata": {},
   "outputs": [
    {
     "data": {
      "text/html": [
       "<div>\n",
       "<style scoped>\n",
       "    .dataframe tbody tr th:only-of-type {\n",
       "        vertical-align: middle;\n",
       "    }\n",
       "\n",
       "    .dataframe tbody tr th {\n",
       "        vertical-align: top;\n",
       "    }\n",
       "\n",
       "    .dataframe thead th {\n",
       "        text-align: right;\n",
       "    }\n",
       "</style>\n",
       "<table border=\"1\" class=\"dataframe\">\n",
       "  <thead>\n",
       "    <tr style=\"text-align: right;\">\n",
       "      <th></th>\n",
       "      <th>age</th>\n",
       "      <th>workclass</th>\n",
       "      <th>fnlwgt</th>\n",
       "      <th>education</th>\n",
       "      <th>education-num</th>\n",
       "      <th>marital-status</th>\n",
       "      <th>occupation</th>\n",
       "      <th>relationship</th>\n",
       "      <th>race</th>\n",
       "      <th>sex</th>\n",
       "      <th>capital-gain</th>\n",
       "      <th>capital-loss</th>\n",
       "      <th>hours-per-week</th>\n",
       "      <th>native-country</th>\n",
       "      <th>label</th>\n",
       "    </tr>\n",
       "  </thead>\n",
       "  <tbody>\n",
       "    <tr>\n",
       "      <th>0</th>\n",
       "      <td>0.042796</td>\n",
       "      <td>State-gov</td>\n",
       "      <td>-1.062722</td>\n",
       "      <td>Bachelors</td>\n",
       "      <td>1.128918</td>\n",
       "      <td>Never-married</td>\n",
       "      <td>Adm-clerical</td>\n",
       "      <td>Not-in-family</td>\n",
       "      <td>White</td>\n",
       "      <td>1</td>\n",
       "      <td>0.146092</td>\n",
       "      <td>-0.218586</td>\n",
       "      <td>-0.077734</td>\n",
       "      <td>United-States</td>\n",
       "      <td>0</td>\n",
       "    </tr>\n",
       "    <tr>\n",
       "      <th>1</th>\n",
       "      <td>0.880288</td>\n",
       "      <td>Self-emp-not-inc</td>\n",
       "      <td>-1.007871</td>\n",
       "      <td>Bachelors</td>\n",
       "      <td>1.128918</td>\n",
       "      <td>Married-civ-spouse</td>\n",
       "      <td>Exec-managerial</td>\n",
       "      <td>Husband</td>\n",
       "      <td>White</td>\n",
       "      <td>1</td>\n",
       "      <td>-0.147445</td>\n",
       "      <td>-0.218586</td>\n",
       "      <td>-2.331531</td>\n",
       "      <td>United-States</td>\n",
       "      <td>0</td>\n",
       "    </tr>\n",
       "    <tr>\n",
       "      <th>2</th>\n",
       "      <td>-0.033340</td>\n",
       "      <td>Private</td>\n",
       "      <td>0.244693</td>\n",
       "      <td>HS-grad</td>\n",
       "      <td>-0.439738</td>\n",
       "      <td>Divorced</td>\n",
       "      <td>Handlers-cleaners</td>\n",
       "      <td>Not-in-family</td>\n",
       "      <td>White</td>\n",
       "      <td>1</td>\n",
       "      <td>-0.147445</td>\n",
       "      <td>-0.218586</td>\n",
       "      <td>-0.077734</td>\n",
       "      <td>United-States</td>\n",
       "      <td>0</td>\n",
       "    </tr>\n",
       "    <tr>\n",
       "      <th>3</th>\n",
       "      <td>1.108695</td>\n",
       "      <td>Private</td>\n",
       "      <td>0.425240</td>\n",
       "      <td>11th</td>\n",
       "      <td>-1.224066</td>\n",
       "      <td>Married-civ-spouse</td>\n",
       "      <td>Handlers-cleaners</td>\n",
       "      <td>Husband</td>\n",
       "      <td>Black</td>\n",
       "      <td>1</td>\n",
       "      <td>-0.147445</td>\n",
       "      <td>-0.218586</td>\n",
       "      <td>-0.077734</td>\n",
       "      <td>United-States</td>\n",
       "      <td>0</td>\n",
       "    </tr>\n",
       "    <tr>\n",
       "      <th>4</th>\n",
       "      <td>-0.794697</td>\n",
       "      <td>Private</td>\n",
       "      <td>1.406658</td>\n",
       "      <td>Bachelors</td>\n",
       "      <td>1.128918</td>\n",
       "      <td>Married-civ-spouse</td>\n",
       "      <td>Prof-specialty</td>\n",
       "      <td>Wife</td>\n",
       "      <td>Black</td>\n",
       "      <td>1</td>\n",
       "      <td>-0.147445</td>\n",
       "      <td>-0.218586</td>\n",
       "      <td>-0.077734</td>\n",
       "      <td>Cuba</td>\n",
       "      <td>0</td>\n",
       "    </tr>\n",
       "    <tr>\n",
       "      <th>...</th>\n",
       "      <td>...</td>\n",
       "      <td>...</td>\n",
       "      <td>...</td>\n",
       "      <td>...</td>\n",
       "      <td>...</td>\n",
       "      <td>...</td>\n",
       "      <td>...</td>\n",
       "      <td>...</td>\n",
       "      <td>...</td>\n",
       "      <td>...</td>\n",
       "      <td>...</td>\n",
       "      <td>...</td>\n",
       "      <td>...</td>\n",
       "      <td>...</td>\n",
       "      <td>...</td>\n",
       "    </tr>\n",
       "    <tr>\n",
       "      <th>32556</th>\n",
       "      <td>-0.870832</td>\n",
       "      <td>Private</td>\n",
       "      <td>0.638972</td>\n",
       "      <td>Assoc-acdm</td>\n",
       "      <td>0.736754</td>\n",
       "      <td>Married-civ-spouse</td>\n",
       "      <td>Tech-support</td>\n",
       "      <td>Wife</td>\n",
       "      <td>White</td>\n",
       "      <td>1</td>\n",
       "      <td>-0.147445</td>\n",
       "      <td>-0.218586</td>\n",
       "      <td>-0.244682</td>\n",
       "      <td>United-States</td>\n",
       "      <td>0</td>\n",
       "    </tr>\n",
       "    <tr>\n",
       "      <th>32557</th>\n",
       "      <td>0.118931</td>\n",
       "      <td>Private</td>\n",
       "      <td>-0.335252</td>\n",
       "      <td>HS-grad</td>\n",
       "      <td>-0.439738</td>\n",
       "      <td>Married-civ-spouse</td>\n",
       "      <td>Machine-op-inspct</td>\n",
       "      <td>Husband</td>\n",
       "      <td>White</td>\n",
       "      <td>1</td>\n",
       "      <td>-0.147445</td>\n",
       "      <td>-0.218586</td>\n",
       "      <td>-0.077734</td>\n",
       "      <td>United-States</td>\n",
       "      <td>1</td>\n",
       "    </tr>\n",
       "    <tr>\n",
       "      <th>32558</th>\n",
       "      <td>1.489374</td>\n",
       "      <td>Private</td>\n",
       "      <td>-0.358575</td>\n",
       "      <td>HS-grad</td>\n",
       "      <td>-0.439738</td>\n",
       "      <td>Widowed</td>\n",
       "      <td>Adm-clerical</td>\n",
       "      <td>Unmarried</td>\n",
       "      <td>White</td>\n",
       "      <td>1</td>\n",
       "      <td>-0.147445</td>\n",
       "      <td>-0.218586</td>\n",
       "      <td>-0.077734</td>\n",
       "      <td>United-States</td>\n",
       "      <td>0</td>\n",
       "    </tr>\n",
       "    <tr>\n",
       "      <th>32559</th>\n",
       "      <td>-1.251511</td>\n",
       "      <td>Private</td>\n",
       "      <td>0.110705</td>\n",
       "      <td>HS-grad</td>\n",
       "      <td>-0.439738</td>\n",
       "      <td>Never-married</td>\n",
       "      <td>Adm-clerical</td>\n",
       "      <td>Own-child</td>\n",
       "      <td>White</td>\n",
       "      <td>1</td>\n",
       "      <td>-0.147445</td>\n",
       "      <td>-0.218586</td>\n",
       "      <td>-1.747213</td>\n",
       "      <td>United-States</td>\n",
       "      <td>0</td>\n",
       "    </tr>\n",
       "    <tr>\n",
       "      <th>32560</th>\n",
       "      <td>1.032559</td>\n",
       "      <td>Self-emp-inc</td>\n",
       "      <td>0.928841</td>\n",
       "      <td>HS-grad</td>\n",
       "      <td>-0.439738</td>\n",
       "      <td>Married-civ-spouse</td>\n",
       "      <td>Exec-managerial</td>\n",
       "      <td>Wife</td>\n",
       "      <td>White</td>\n",
       "      <td>1</td>\n",
       "      <td>1.881120</td>\n",
       "      <td>-0.218586</td>\n",
       "      <td>-0.077734</td>\n",
       "      <td>United-States</td>\n",
       "      <td>1</td>\n",
       "    </tr>\n",
       "  </tbody>\n",
       "</table>\n",
       "<p>30162 rows × 15 columns</p>\n",
       "</div>"
      ],
      "text/plain": [
       "            age         workclass    fnlwgt   education  education-num  \\\n",
       "0      0.042796         State-gov -1.062722   Bachelors       1.128918   \n",
       "1      0.880288  Self-emp-not-inc -1.007871   Bachelors       1.128918   \n",
       "2     -0.033340           Private  0.244693     HS-grad      -0.439738   \n",
       "3      1.108695           Private  0.425240        11th      -1.224066   \n",
       "4     -0.794697           Private  1.406658   Bachelors       1.128918   \n",
       "...         ...               ...       ...         ...            ...   \n",
       "32556 -0.870832           Private  0.638972  Assoc-acdm       0.736754   \n",
       "32557  0.118931           Private -0.335252     HS-grad      -0.439738   \n",
       "32558  1.489374           Private -0.358575     HS-grad      -0.439738   \n",
       "32559 -1.251511           Private  0.110705     HS-grad      -0.439738   \n",
       "32560  1.032559      Self-emp-inc  0.928841     HS-grad      -0.439738   \n",
       "\n",
       "           marital-status         occupation   relationship   race  sex  \\\n",
       "0           Never-married       Adm-clerical  Not-in-family  White    1   \n",
       "1      Married-civ-spouse    Exec-managerial        Husband  White    1   \n",
       "2                Divorced  Handlers-cleaners  Not-in-family  White    1   \n",
       "3      Married-civ-spouse  Handlers-cleaners        Husband  Black    1   \n",
       "4      Married-civ-spouse     Prof-specialty           Wife  Black    1   \n",
       "...                   ...                ...            ...    ...  ...   \n",
       "32556  Married-civ-spouse       Tech-support           Wife  White    1   \n",
       "32557  Married-civ-spouse  Machine-op-inspct        Husband  White    1   \n",
       "32558             Widowed       Adm-clerical      Unmarried  White    1   \n",
       "32559       Never-married       Adm-clerical      Own-child  White    1   \n",
       "32560  Married-civ-spouse    Exec-managerial           Wife  White    1   \n",
       "\n",
       "       capital-gain  capital-loss  hours-per-week native-country  label  \n",
       "0          0.146092     -0.218586       -0.077734  United-States      0  \n",
       "1         -0.147445     -0.218586       -2.331531  United-States      0  \n",
       "2         -0.147445     -0.218586       -0.077734  United-States      0  \n",
       "3         -0.147445     -0.218586       -0.077734  United-States      0  \n",
       "4         -0.147445     -0.218586       -0.077734           Cuba      0  \n",
       "...             ...           ...             ...            ...    ...  \n",
       "32556     -0.147445     -0.218586       -0.244682  United-States      0  \n",
       "32557     -0.147445     -0.218586       -0.077734  United-States      1  \n",
       "32558     -0.147445     -0.218586       -0.077734  United-States      0  \n",
       "32559     -0.147445     -0.218586       -1.747213  United-States      0  \n",
       "32560      1.881120     -0.218586       -0.077734  United-States      1  \n",
       "\n",
       "[30162 rows x 15 columns]"
      ]
     },
     "execution_count": 137,
     "metadata": {},
     "output_type": "execute_result"
    }
   ],
   "source": [
    "data"
   ]
  },
  {
   "cell_type": "code",
   "execution_count": 127,
   "metadata": {},
   "outputs": [],
   "source": [
    "data['label'] = data['label'].apply(lambda x : 0 if x=='<=50K' else 1)"
   ]
  },
  {
   "cell_type": "code",
   "execution_count": 143,
   "metadata": {},
   "outputs": [],
   "source": [
    "train_dataset_part1 = tf.convert_to_tensor(data.loc[:, ['age', 'fnlwgt', 'education-num', 'capital-gain', 'capital-loss', 'hours-per-week']])"
   ]
  },
  {
   "cell_type": "code",
   "execution_count": 144,
   "metadata": {},
   "outputs": [
    {
     "data": {
      "text/plain": [
       "<tf.Tensor: shape=(30162, 6), dtype=float64, numpy=\n",
       "array([[ 0.04279571, -1.0627216 ,  1.12891838,  0.14609228, -0.21858598,\n",
       "        -0.07773411],\n",
       "       [ 0.88028814, -1.00787131,  1.12891838, -0.14744462, -0.21858598,\n",
       "        -2.3315307 ],\n",
       "       [-0.03333996,  0.24469349, -0.4397382 , -0.14744462, -0.21858598,\n",
       "        -0.07773411],\n",
       "       ...,\n",
       "       [ 1.48937355, -0.3585745 , -0.4397382 , -0.14744462, -0.21858598,\n",
       "        -0.07773411],\n",
       "       [-1.25151078,  0.11070545, -0.4397382 , -0.14744462, -0.21858598,\n",
       "        -1.74721307],\n",
       "       [ 1.0325595 ,  0.92884082, -0.4397382 ,  1.88111954, -0.21858598,\n",
       "        -0.07773411]])>"
      ]
     },
     "execution_count": 144,
     "metadata": {},
     "output_type": "execute_result"
    }
   ],
   "source": [
    "train_dataset_part1"
   ]
  },
  {
   "cell_type": "code",
   "execution_count": 161,
   "metadata": {},
   "outputs": [],
   "source": [
    "train_dataset_part2 = tf.concat([v.toarray() for v in onehot_dic.values()], axis=1)"
   ]
  },
  {
   "cell_type": "code",
   "execution_count": 162,
   "metadata": {},
   "outputs": [
    {
     "data": {
      "text/plain": [
       "TensorShape([30162, 98])"
      ]
     },
     "execution_count": 162,
     "metadata": {},
     "output_type": "execute_result"
    }
   ],
   "source": [
    "train_dataset_part2.shape"
   ]
  },
  {
   "cell_type": "code",
   "execution_count": 163,
   "metadata": {},
   "outputs": [],
   "source": [
    "train_dataset = tf.concat([train_dataset_part1, train_dataset_part2], axis=1)"
   ]
  },
  {
   "cell_type": "code",
   "execution_count": 169,
   "metadata": {},
   "outputs": [],
   "source": [
    "train_dataset = tf.concat([train_dataset, data[['label']]], axis=1)"
   ]
  },
  {
   "attachments": {},
   "cell_type": "markdown",
   "metadata": {},
   "source": [
    "### 用同样的数据处理范式，加载测试数据集"
   ]
  },
  {
   "cell_type": "code",
   "execution_count": 690,
   "metadata": {},
   "outputs": [],
   "source": [
    "def get_data(filepath):\n",
    "    line_list = []\n",
    "    with open(filepath) as lines:\n",
    "        next(lines)\n",
    "        for line in lines:\n",
    "            l = line.split(',')\n",
    "            if '?' in l:\n",
    "                print('yes')\n",
    "            line_list.append(l)\n",
    "    \n",
    "    data = pd.DataFrame(line_list,\n",
    "                    columns=['age', 'workclass', 'fnlwgt', 'education', 'education-num',\n",
    "                             'marital-status', 'occupation', 'relationship',\n",
    "                             'race', 'sex', 'capital-gain', 'capital-loss','hours-per-week',\n",
    "                             'native-country', 'label'])\n",
    "    \n",
    "    data = data.iloc[:-1, :]\n",
    "\n",
    "    for col in ['age', 'fnlwgt', 'education-num', 'capital-gain', 'capital-loss', 'hours-per-week']:\n",
    "        data[col] = data[col].astype(int)\n",
    "\n",
    "    for col in ['workclass', 'education', 'marital-status', 'occupation', 'relationship', 'race', 'native-country', 'sex', 'label']:\n",
    "        data[col] = data[col].astype(str)\n",
    "        data[col] = data[col].apply(lambda x: x.strip(' '))\n",
    "        data[col] = data[col].apply(lambda x : None if x == '?' else x)\n",
    "\n",
    "    data['label'] = data['label'].apply(lambda l : l.strip())\n",
    "\n",
    "    data.dropna(axis='index', how='any', inplace=True)\n",
    "\n",
    "    data['sex'] = data['sex'].apply(lambda x : 0 if x == 'Male' else 1)\n",
    "\n",
    "    data['label'] = data['label'].apply(lambda x : 0 if x=='<=50K' else 1)\n",
    "\n",
    "    return data"
   ]
  },
  {
   "cell_type": "code",
   "execution_count": 691,
   "metadata": {},
   "outputs": [],
   "source": [
    "data_part1 = get_data('./Adult/adult.data')\n",
    "data_part2 = get_data('./Adult/adult.test')"
   ]
  },
  {
   "cell_type": "code",
   "execution_count": 692,
   "metadata": {},
   "outputs": [
    {
     "name": "stderr",
     "output_type": "stream",
     "text": [
      "C:\\Users\\13015\\AppData\\Local\\Temp\\ipykernel_5028\\61704691.py:1: FutureWarning: The frame.append method is deprecated and will be removed from pandas in a future version. Use pandas.concat instead.\n",
      "  data = data_part1.append(data_part2)\n"
     ]
    }
   ],
   "source": [
    "data = data_part1.append(data_part2)"
   ]
  },
  {
   "cell_type": "code",
   "execution_count": 693,
   "metadata": {},
   "outputs": [],
   "source": [
    "# 使用分层抽样划分训练集与测试集\n",
    "from sklearn.model_selection import StratifiedShuffleSplit\n",
    "spliter = StratifiedShuffleSplit(n_splits=1, test_size=0.3, random_state=42)\n",
    "for train_indices, test_indices in spliter.split(data, data['label']):\n",
    "    train_dataset = data.iloc[train_indices]\n",
    "    test_dataset = data.iloc[test_indices]\n"
   ]
  },
  {
   "cell_type": "code",
   "execution_count": 694,
   "metadata": {},
   "outputs": [
    {
     "data": {
      "text/plain": [
       "0    15857\n",
       "1    15797\n",
       "Name: label, dtype: int64"
      ]
     },
     "execution_count": 694,
     "metadata": {},
     "output_type": "execute_result"
    }
   ],
   "source": [
    "train_dataset['label'].value_counts()"
   ]
  },
  {
   "cell_type": "code",
   "execution_count": 695,
   "metadata": {},
   "outputs": [
    {
     "data": {
      "text/plain": [
       "0    6796\n",
       "1    6771\n",
       "Name: label, dtype: int64"
      ]
     },
     "execution_count": 695,
     "metadata": {},
     "output_type": "execute_result"
    }
   ],
   "source": [
    "test_dataset['label'].value_counts()"
   ]
  },
  {
   "cell_type": "code",
   "execution_count": 696,
   "metadata": {},
   "outputs": [],
   "source": [
    "# categories_dic = {\n",
    "#     'workclass': ['Private', 'Self-emp-not-inc', 'Self-emp-inc', 'Federal-gov', 'Local-gov', 'State-gov', 'Without-pay', 'Never-worked'],\n",
    "#     'education': ['Bachelors', 'Some-college', '11th', 'HS-grad', 'Prof-school', 'Assoc-acdm', 'Assoc-voc', '9th', '7th-8th', '12th', 'Masters',' 1st-4th', '10th', 'Doctorate', '5th-6th', 'Preschool'],\n",
    "#     'marital-status': ['Married-civ-spouse', 'Divorced', 'Never-married', 'Separated', 'Widowed', 'Married-spouse-absent', 'Married-AF-spouse'],\n",
    "#     'occupation': ['Tech-support', 'Craft-repair', 'Other-service', 'Sales', 'Exec-managerial', 'Prof-specialty', 'Handlers-cleaners', 'Machine-op-inspct', 'Adm-clerical', 'Farming-fishing', 'Transport-moving', 'Priv-house-serv', 'Protective-serv', 'Armed-Forces'],\n",
    "#     'relationship': ['Wife', 'Own-child', 'Husband', 'Not-in-family', 'Other-relative', 'Unmarried'],\n",
    "#     'race': ['White', 'Asian-Pac-Islander', 'Amer-Indian-Eskimo', 'Other', 'Black'],\n",
    "#     'native-country': ['United-States', 'Cambodia', 'England', 'Puerto-Rico', 'Canada', 'Germany', 'Outlying-US(Guam-USVI-etc)', 'India', 'Japan', 'Greece', 'South', 'China', 'Cuba', 'Iran', 'Honduras', 'Philippines', 'Italy', 'Poland', 'Jamaica', 'Vietnam', 'Mexico', 'Portugal', 'Ireland', 'France', 'Dominican-Republic', 'Laos', 'Ecuador', 'Taiwan', 'Haiti', 'Columbia', 'Hungary', 'Guatemala', 'Nicaragua', 'Scotland', 'Thailand', 'Yugoslavia', 'El-Salvador', 'Trinadad&Tobago', 'Peru', 'Hong', 'Holand-Netherlands']\n",
    "# }"
   ]
  },
  {
   "cell_type": "code",
   "execution_count": 697,
   "metadata": {},
   "outputs": [
    {
     "name": "stdout",
     "output_type": "stream",
     "text": [
      "<class 'pandas.core.frame.DataFrame'>\n",
      "Int64Index: 31654 entries, 30561 to 9822\n",
      "Data columns (total 15 columns):\n",
      " #   Column          Non-Null Count  Dtype \n",
      "---  ------          --------------  ----- \n",
      " 0   age             31654 non-null  int32 \n",
      " 1   workclass       31654 non-null  object\n",
      " 2   fnlwgt          31654 non-null  int32 \n",
      " 3   education       31654 non-null  object\n",
      " 4   education-num   31654 non-null  int32 \n",
      " 5   marital-status  31654 non-null  object\n",
      " 6   occupation      31654 non-null  object\n",
      " 7   relationship    31654 non-null  object\n",
      " 8   race            31654 non-null  object\n",
      " 9   sex             31654 non-null  int64 \n",
      " 10  capital-gain    31654 non-null  int32 \n",
      " 11  capital-loss    31654 non-null  int32 \n",
      " 12  hours-per-week  31654 non-null  int32 \n",
      " 13  native-country  31654 non-null  object\n",
      " 14  label           31654 non-null  int64 \n",
      "dtypes: int32(6), int64(2), object(7)\n",
      "memory usage: 3.1+ MB\n"
     ]
    }
   ],
   "source": [
    "train_dataset.info()"
   ]
  },
  {
   "cell_type": "code",
   "execution_count": 698,
   "metadata": {},
   "outputs": [],
   "source": [
    "onehot_encoder_dic = dict()\n",
    "for col in ['workclass', 'education', 'marital-status', 'occupation', 'relationship', 'race', 'native-country']:\n",
    "    onehot_encoder = OneHotEncoder()\n",
    "    onehot_encoder.fit(data[[col]])\n",
    "    onehot_encoder_dic[col] = onehot_encoder"
   ]
  },
  {
   "cell_type": "code",
   "execution_count": 699,
   "metadata": {},
   "outputs": [],
   "source": [
    "from sklearn.preprocessing import MinMaxScaler"
   ]
  },
  {
   "cell_type": "code",
   "execution_count": 701,
   "metadata": {},
   "outputs": [],
   "source": [
    "def data_process(data):\n",
    "    for col in ['age', 'fnlwgt', 'education-num', 'capital-gain', 'capital-loss', 'hours-per-week']:\n",
    "        # standard_scaler = StandardScaler()\n",
    "        minmaxscaler = MinMaxScaler()\n",
    "        data[col] = minmaxscaler.fit_transform(data[[col]])\n",
    "\n",
    "    onehot_dic = dict()\n",
    "    for col in ['workclass', 'education', 'marital-status', 'occupation', 'relationship', 'race', 'native-country']:\n",
    "        onehot = onehot_encoder_dic[col].transform(data[[col]])\n",
    "        onehot_dic[col] = onehot\n",
    "    \n",
    "    \n",
    "    dataset_part1 = tf.convert_to_tensor(data.loc[:, ['age', 'fnlwgt', 'education-num', 'capital-gain', 'capital-loss', 'hours-per-week']])\n",
    "    dataset_part2 = tf.concat([v.toarray() for v in onehot_dic.values()], axis=1)\n",
    "    dataset = tf.concat([dataset_part1, dataset_part2, data[['sex']], data[['label']]], axis=1)\n",
    "\n",
    "    return dataset"
   ]
  },
  {
   "cell_type": "code",
   "execution_count": 702,
   "metadata": {},
   "outputs": [
    {
     "name": "stderr",
     "output_type": "stream",
     "text": [
      "C:\\Users\\13015\\AppData\\Local\\Temp\\ipykernel_5028\\2211277084.py:5: SettingWithCopyWarning: \n",
      "A value is trying to be set on a copy of a slice from a DataFrame.\n",
      "Try using .loc[row_indexer,col_indexer] = value instead\n",
      "\n",
      "See the caveats in the documentation: https://pandas.pydata.org/pandas-docs/stable/user_guide/indexing.html#returning-a-view-versus-a-copy\n",
      "  data[col] = minmaxscaler.fit_transform(data[[col]])\n",
      "C:\\Users\\13015\\AppData\\Local\\Temp\\ipykernel_5028\\2211277084.py:5: SettingWithCopyWarning: \n",
      "A value is trying to be set on a copy of a slice from a DataFrame.\n",
      "Try using .loc[row_indexer,col_indexer] = value instead\n",
      "\n",
      "See the caveats in the documentation: https://pandas.pydata.org/pandas-docs/stable/user_guide/indexing.html#returning-a-view-versus-a-copy\n",
      "  data[col] = minmaxscaler.fit_transform(data[[col]])\n",
      "C:\\Users\\13015\\AppData\\Local\\Temp\\ipykernel_5028\\2211277084.py:5: SettingWithCopyWarning: \n",
      "A value is trying to be set on a copy of a slice from a DataFrame.\n",
      "Try using .loc[row_indexer,col_indexer] = value instead\n",
      "\n",
      "See the caveats in the documentation: https://pandas.pydata.org/pandas-docs/stable/user_guide/indexing.html#returning-a-view-versus-a-copy\n",
      "  data[col] = minmaxscaler.fit_transform(data[[col]])\n",
      "C:\\Users\\13015\\AppData\\Local\\Temp\\ipykernel_5028\\2211277084.py:5: SettingWithCopyWarning: \n",
      "A value is trying to be set on a copy of a slice from a DataFrame.\n",
      "Try using .loc[row_indexer,col_indexer] = value instead\n",
      "\n",
      "See the caveats in the documentation: https://pandas.pydata.org/pandas-docs/stable/user_guide/indexing.html#returning-a-view-versus-a-copy\n",
      "  data[col] = minmaxscaler.fit_transform(data[[col]])\n",
      "C:\\Users\\13015\\AppData\\Local\\Temp\\ipykernel_5028\\2211277084.py:5: SettingWithCopyWarning: \n",
      "A value is trying to be set on a copy of a slice from a DataFrame.\n",
      "Try using .loc[row_indexer,col_indexer] = value instead\n",
      "\n",
      "See the caveats in the documentation: https://pandas.pydata.org/pandas-docs/stable/user_guide/indexing.html#returning-a-view-versus-a-copy\n",
      "  data[col] = minmaxscaler.fit_transform(data[[col]])\n",
      "C:\\Users\\13015\\AppData\\Local\\Temp\\ipykernel_5028\\2211277084.py:5: SettingWithCopyWarning: \n",
      "A value is trying to be set on a copy of a slice from a DataFrame.\n",
      "Try using .loc[row_indexer,col_indexer] = value instead\n",
      "\n",
      "See the caveats in the documentation: https://pandas.pydata.org/pandas-docs/stable/user_guide/indexing.html#returning-a-view-versus-a-copy\n",
      "  data[col] = minmaxscaler.fit_transform(data[[col]])\n",
      "C:\\Users\\13015\\AppData\\Local\\Temp\\ipykernel_5028\\2211277084.py:5: SettingWithCopyWarning: \n",
      "A value is trying to be set on a copy of a slice from a DataFrame.\n",
      "Try using .loc[row_indexer,col_indexer] = value instead\n",
      "\n",
      "See the caveats in the documentation: https://pandas.pydata.org/pandas-docs/stable/user_guide/indexing.html#returning-a-view-versus-a-copy\n",
      "  data[col] = minmaxscaler.fit_transform(data[[col]])\n",
      "C:\\Users\\13015\\AppData\\Local\\Temp\\ipykernel_5028\\2211277084.py:5: SettingWithCopyWarning: \n",
      "A value is trying to be set on a copy of a slice from a DataFrame.\n",
      "Try using .loc[row_indexer,col_indexer] = value instead\n",
      "\n",
      "See the caveats in the documentation: https://pandas.pydata.org/pandas-docs/stable/user_guide/indexing.html#returning-a-view-versus-a-copy\n",
      "  data[col] = minmaxscaler.fit_transform(data[[col]])\n",
      "C:\\Users\\13015\\AppData\\Local\\Temp\\ipykernel_5028\\2211277084.py:5: SettingWithCopyWarning: \n",
      "A value is trying to be set on a copy of a slice from a DataFrame.\n",
      "Try using .loc[row_indexer,col_indexer] = value instead\n",
      "\n",
      "See the caveats in the documentation: https://pandas.pydata.org/pandas-docs/stable/user_guide/indexing.html#returning-a-view-versus-a-copy\n",
      "  data[col] = minmaxscaler.fit_transform(data[[col]])\n",
      "C:\\Users\\13015\\AppData\\Local\\Temp\\ipykernel_5028\\2211277084.py:5: SettingWithCopyWarning: \n",
      "A value is trying to be set on a copy of a slice from a DataFrame.\n",
      "Try using .loc[row_indexer,col_indexer] = value instead\n",
      "\n",
      "See the caveats in the documentation: https://pandas.pydata.org/pandas-docs/stable/user_guide/indexing.html#returning-a-view-versus-a-copy\n",
      "  data[col] = minmaxscaler.fit_transform(data[[col]])\n",
      "C:\\Users\\13015\\AppData\\Local\\Temp\\ipykernel_5028\\2211277084.py:5: SettingWithCopyWarning: \n",
      "A value is trying to be set on a copy of a slice from a DataFrame.\n",
      "Try using .loc[row_indexer,col_indexer] = value instead\n",
      "\n",
      "See the caveats in the documentation: https://pandas.pydata.org/pandas-docs/stable/user_guide/indexing.html#returning-a-view-versus-a-copy\n",
      "  data[col] = minmaxscaler.fit_transform(data[[col]])\n",
      "C:\\Users\\13015\\AppData\\Local\\Temp\\ipykernel_5028\\2211277084.py:5: SettingWithCopyWarning: \n",
      "A value is trying to be set on a copy of a slice from a DataFrame.\n",
      "Try using .loc[row_indexer,col_indexer] = value instead\n",
      "\n",
      "See the caveats in the documentation: https://pandas.pydata.org/pandas-docs/stable/user_guide/indexing.html#returning-a-view-versus-a-copy\n",
      "  data[col] = minmaxscaler.fit_transform(data[[col]])\n"
     ]
    }
   ],
   "source": [
    "train_dataset = data_process(train_dataset)\n",
    "test_dataset = data_process(test_dataset)"
   ]
  },
  {
   "cell_type": "code",
   "execution_count": 703,
   "metadata": {},
   "outputs": [
    {
     "data": {
      "text/plain": [
       "TensorShape([31654, 104])"
      ]
     },
     "execution_count": 703,
     "metadata": {},
     "output_type": "execute_result"
    }
   ],
   "source": [
    "train_dataset.shape"
   ]
  },
  {
   "cell_type": "code",
   "execution_count": 709,
   "metadata": {},
   "outputs": [
    {
     "data": {
      "text/plain": [
       "TensorShape([13567, 104])"
      ]
     },
     "execution_count": 709,
     "metadata": {},
     "output_type": "execute_result"
    }
   ],
   "source": [
    "test_dataset.shape"
   ]
  },
  {
   "cell_type": "code",
   "execution_count": 710,
   "metadata": {},
   "outputs": [],
   "source": [
    "np.savetxt('./data/train.txt', train_dataset.numpy())"
   ]
  },
  {
   "cell_type": "code",
   "execution_count": 551,
   "metadata": {},
   "outputs": [],
   "source": [
    "np.savetxt('./data/test.txt', test_dataset.numpy())"
   ]
  },
  {
   "attachments": {},
   "cell_type": "markdown",
   "metadata": {},
   "source": [
    "### 训练模型"
   ]
  },
  {
   "cell_type": "code",
   "execution_count": 378,
   "metadata": {},
   "outputs": [],
   "source": [
    "# from sklearn.linear_model import LogisticRegression\n",
    "# from sklearn.svm import LinearSVC\n",
    "\n",
    "# logistic_reg = LogisticRegression(max_iter=500)\n",
    "# lr_svm = LinearSVC(max_iter=5000)\n",
    "\n",
    "# logistic_reg.fit(train_dataset[:,:-1], train_dataset[:, -1])\n",
    "# lr_svm.fit(train_dataset[:,:-1], train_dataset[:, -1])\n",
    "\n",
    "# y_pred = logistic_reg.predict(test_dataset[:, :-1])\n",
    "# y_pred = lr_svm.predict(test_dataset[:, :-1])\n",
    "# evaluate(y_pred=y_pred, y=test_dataset[:, -1])\n"
   ]
  },
  {
   "cell_type": "code",
   "execution_count": 658,
   "metadata": {},
   "outputs": [],
   "source": [
    "class Config:\n",
    "    def __init__(self) -> None:\n",
    "        self.batch_size = 256\n",
    "        self.learn_rate = 0.3\n",
    "        self.epochs = 20\n",
    "config = Config()"
   ]
  },
  {
   "cell_type": "code",
   "execution_count": 659,
   "metadata": {},
   "outputs": [],
   "source": [
    "def load_array(data_arrays, batch_size, is_train=True):\n",
    "    dataset = tf.data.Dataset.from_tensor_slices(data_arrays)\n",
    "    if is_train:\n",
    "        dataset = dataset.shuffle(buffer_size=len(data_arrays), seed=42)\n",
    "    dataset = dataset.batch(batch_size)\n",
    "    return dataset"
   ]
  },
  {
   "cell_type": "code",
   "execution_count": 660,
   "metadata": {},
   "outputs": [],
   "source": [
    "data_iter = load_array((train_dataset[:, :-1], train_dataset[:, -1]), batch_size=config.batch_size, is_train=True)"
   ]
  },
  {
   "cell_type": "code",
   "execution_count": 661,
   "metadata": {},
   "outputs": [],
   "source": [
    "model = tf.keras.Sequential()\n",
    "model.add(tf.keras.layers.Dense(units=train_dataset[:, :-1].shape[1], kernel_initializer=tf.keras.initializers.Zeros()))\n",
    "model.add(tf.keras.layers.Dense(units=50, kernel_initializer=tf.keras.initializers.RandomNormal(seed=42), activation='softmax'))\n",
    "# model.add(tf.keras.layers.Dropout(0.5))\n",
    "model.add(tf.keras.layers.Dense(2, activation='sigmoid'))"
   ]
  },
  {
   "cell_type": "code",
   "execution_count": 662,
   "metadata": {},
   "outputs": [],
   "source": [
    "loss = tf.keras.losses.BinaryCrossentropy(from_logits=False)\n",
    "optimizer = tf.keras.optimizers.SGD(learning_rate=config.learn_rate)"
   ]
  },
  {
   "cell_type": "code",
   "execution_count": 663,
   "metadata": {},
   "outputs": [],
   "source": [
    "# def evaluate(y_pred, y):\n",
    "#     ones = tf.ones_like(y_pred)\n",
    "#     zeros = tf.zeros_like(y_pred)\n",
    "#     output = tf.where(y_pred > 0.5 , ones, zeros)\n",
    "#     y = tf.reshape(y, output.shape)\n",
    "#     res = tf.reduce_sum(tf.where(y == tf.cast(output, dtype=y.dtype), ones, zeros))/y.shape[0]\n",
    "#     return res.numpy()\n",
    "\n",
    "def evaluate(y_true, y_pred):\n",
    "    y_pred = tf.argmax(y_pred, axis=1)\n",
    "    res = tf.equal(tf.cast(y_true, y_pred.dtype), y_pred)\n",
    "    res = np.mean(res)\n",
    "    return res"
   ]
  },
  {
   "cell_type": "code",
   "execution_count": 664,
   "metadata": {},
   "outputs": [
    {
     "data": {
      "text/plain": [
       "TensorShape([31654, 104])"
      ]
     },
     "execution_count": 664,
     "metadata": {},
     "output_type": "execute_result"
    }
   ],
   "source": [
    "train_dataset.shape"
   ]
  },
  {
   "cell_type": "code",
   "execution_count": 665,
   "metadata": {},
   "outputs": [
    {
     "data": {
      "text/plain": [
       "TensorShape([13567, 104])"
      ]
     },
     "execution_count": 665,
     "metadata": {},
     "output_type": "execute_result"
    }
   ],
   "source": [
    "test_dataset.shape"
   ]
  },
  {
   "cell_type": "code",
   "execution_count": 666,
   "metadata": {},
   "outputs": [
    {
     "name": "stdout",
     "output_type": "stream",
     "text": [
      "WARNING:tensorflow:Layer dense_124 is casting an input tensor from dtype float64 to the layer's dtype of float32, which is new behavior in TensorFlow 2.  The layer has dtype float32 because its dtype defaults to floatx.\n",
      "\n",
      "If you intended to run this layer in float32, you can safely ignore this warning. If in doubt, this warning is likely only an issue if you are porting a TensorFlow 1.X model to TensorFlow 2.\n",
      "\n",
      "To change all layers to have dtype float64 by default, call `tf.keras.backend.set_floatx('float64')`. To change just this layer, pass dtype='float64' to the layer constructor. If you are the author of this layer, you can disable autocasting by passing autocast=False to the base Layer constructor.\n",
      "\n",
      "epoch:1, trian_loss:0.69310, train_acc:0.508, test_loss:0.69305, test_acc:0.499\n",
      "epoch:2, trian_loss:0.69297, train_acc:0.518, test_loss:0.69288, test_acc:0.499\n",
      "epoch:3, trian_loss:0.69279, train_acc:0.527, test_loss:0.69268, test_acc:0.499\n",
      "epoch:4, trian_loss:0.69257, train_acc:0.540, test_loss:0.69241, test_acc:0.499\n",
      "epoch:5, trian_loss:0.69227, train_acc:0.554, test_loss:0.69205, test_acc:0.499\n",
      "epoch:6, trian_loss:0.69186, train_acc:0.574, test_loss:0.69154, test_acc:0.509\n",
      "epoch:7, trian_loss:0.69128, train_acc:0.592, test_loss:0.69081, test_acc:0.534\n",
      "epoch:8, trian_loss:0.69043, train_acc:0.610, test_loss:0.68972, test_acc:0.570\n",
      "epoch:9, trian_loss:0.68916, train_acc:0.626, test_loss:0.68810, test_acc:0.601\n",
      "epoch:10, trian_loss:0.68726, train_acc:0.635, test_loss:0.68565, test_acc:0.621\n",
      "epoch:11, trian_loss:0.68436, train_acc:0.639, test_loss:0.68193, test_acc:0.633\n",
      "epoch:12, trian_loss:0.67996, train_acc:0.643, test_loss:0.67618, test_acc:0.644\n",
      "epoch:13, trian_loss:0.67260, train_acc:0.644, test_loss:0.66522, test_acc:0.648\n",
      "epoch:14, trian_loss:0.65515, train_acc:0.646, test_loss:0.64113, test_acc:0.658\n",
      "epoch:15, trian_loss:0.63813, train_acc:0.649, test_loss:0.63036, test_acc:0.660\n",
      "epoch:16, trian_loss:0.63176, train_acc:0.650, test_loss:0.62585, test_acc:0.660\n",
      "epoch:17, trian_loss:0.62812, train_acc:0.653, test_loss:0.62278, test_acc:0.659\n",
      "epoch:18, trian_loss:0.62523, train_acc:0.654, test_loss:0.62015, test_acc:0.660\n",
      "epoch:19, trian_loss:0.62268, train_acc:0.656, test_loss:0.61779, test_acc:0.662\n",
      "epoch:20, trian_loss:0.62045, train_acc:0.656, test_loss:0.61578, test_acc:0.663\n"
     ]
    }
   ],
   "source": [
    "for epoch in range(config.epochs):\n",
    "    train_loss_list = []\n",
    "    train_acc_list = []\n",
    "    for X, y in data_iter:\n",
    "        # y = tf.reshape(y, (y.shape[0],1))  # this step is very important\n",
    "        with tf.GradientTape() as tape:\n",
    "            y_pred = model(X)\n",
    "            l = loss(y_true=tf.one_hot(tf.cast(y, tf.int32), depth=2), y_pred=y_pred)\n",
    "        grads = tape.gradient(l, model.trainable_variables)\n",
    "        # print(grads)\n",
    "        optimizer.apply_gradients(zip(grads, model.trainable_variables))\n",
    "        train_loss_list.append(l)\n",
    "        train_acc_list.append(evaluate(y_true=y, y_pred=model(X)))\n",
    "    train_loss = np.mean(train_loss_list)\n",
    "    train_acc = np.mean(train_acc_list)\n",
    "    test_loss = loss(y_pred=model(test_dataset[:, :-1]), y_true=tf.one_hot(tf.cast(test_dataset[:, -1], tf.int32), depth=2))\n",
    "    test_acc = evaluate(y_pred=model(test_dataset[:, :-1]), y_true=test_dataset[:, -1])\n",
    "    # print(train_loss, test_loss)\n",
    "    print(\"epoch:{}, trian_loss:{:.5f}, train_acc:{:.3f}, test_loss:{:.5f}, test_acc:{:.3f}\".format(epoch+1, train_loss, train_acc, test_loss.numpy(), test_acc))"
   ]
  },
  {
   "cell_type": "code",
   "execution_count": 667,
   "metadata": {},
   "outputs": [
    {
     "data": {
      "text/plain": [
       "0.6666666666666666"
      ]
     },
     "execution_count": 667,
     "metadata": {},
     "output_type": "execute_result"
    }
   ],
   "source": [
    "X = tf.constant([[0.3, 0.7], [0.3, 0.7], [0.2, 0.8]])\n",
    "# y = tf.constant([[0, 1], [1, 0], [0, 1]])\n",
    "y = tf.constant([1, 0, 1])\n",
    "evaluate(y, X)"
   ]
  },
  {
   "cell_type": "code",
   "execution_count": null,
   "metadata": {},
   "outputs": [],
   "source": []
  },
  {
   "cell_type": "code",
   "execution_count": null,
   "metadata": {},
   "outputs": [],
   "source": []
  }
 ],
 "metadata": {
  "kernelspec": {
   "display_name": "loc_pred",
   "language": "python",
   "name": "python3"
  },
  "language_info": {
   "codemirror_mode": {
    "name": "ipython",
    "version": 3
   },
   "file_extension": ".py",
   "mimetype": "text/x-python",
   "name": "python",
   "nbconvert_exporter": "python",
   "pygments_lexer": "ipython3",
   "version": "3.8.13"
  },
  "vscode": {
   "interpreter": {
    "hash": "bb210df15ccbc807886e443738f30d2650868bc41b7c3ce172e2655787add45a"
   }
  }
 },
 "nbformat": 4,
 "nbformat_minor": 1
}
